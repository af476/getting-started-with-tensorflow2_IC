{
  "nbformat": 4,
  "nbformat_minor": 0,
  "metadata": {
    "colab": {
      "name": "Week2_Getting started with TF notes.ipynb",
      "provenance": [],
      "collapsed_sections": [],
      "toc_visible": true
    },
    "kernelspec": {
      "name": "python3",
      "display_name": "Python 3"
    }
  },
  "cells": [
    {
      "cell_type": "markdown",
      "metadata": {
        "id": "yLNE1yy2ymsc"
      },
      "source": [
        "## set the directory "
      ]
    },
    {
      "cell_type": "code",
      "metadata": {
        "colab": {
          "base_uri": "https://localhost:8080/"
        },
        "id": "85Ya0A-jPJnJ",
        "outputId": "b8a3d720-d171-4090-a5b3-39ff65d49e46"
      },
      "source": [
        "from google.colab import drive\n",
        "drive.mount('gdrive')"
      ],
      "execution_count": 36,
      "outputs": [
        {
          "output_type": "stream",
          "text": [
            "Drive already mounted at gdrive; to attempt to forcibly remount, call drive.mount(\"gdrive\", force_remount=True).\n"
          ],
          "name": "stdout"
        }
      ]
    },
    {
      "cell_type": "code",
      "metadata": {
        "id": "99P0uSvvQ_HJ"
      },
      "source": [
        "myfile = open('gdrive/MyDrive/Untitled.rtf')\n",
        "#print(myfile.read())"
      ],
      "execution_count": 88,
      "outputs": []
    },
    {
      "cell_type": "code",
      "metadata": {
        "colab": {
          "base_uri": "https://localhost:8080/"
        },
        "id": "-dFF2DmqRlBC",
        "outputId": "f88b88e6-dfc1-44ad-9dde-1d6a9138c59c"
      },
      "source": [
        "!ls"
      ],
      "execution_count": 38,
      "outputs": [
        {
          "output_type": "stream",
          "text": [
            "gdrive\tsample_data\n"
          ],
          "name": "stdout"
        }
      ]
    },
    {
      "cell_type": "code",
      "metadata": {
        "id": "1JjI-gBDYiKO"
      },
      "source": [
        "#!pip install tensorflow==2.4"
      ],
      "execution_count": 39,
      "outputs": []
    },
    {
      "cell_type": "code",
      "metadata": {
        "id": "fh6Hz_T5ZLBm"
      },
      "source": [
        "import tensorflow as tf"
      ],
      "execution_count": 40,
      "outputs": []
    },
    {
      "cell_type": "code",
      "metadata": {
        "colab": {
          "base_uri": "https://localhost:8080/",
          "height": 35
        },
        "id": "h6OEwNH5YmoF",
        "outputId": "a8a57fe9-9d87-4699-8ef2-632eb6985121"
      },
      "source": [
        "tf.__version__"
      ],
      "execution_count": 41,
      "outputs": [
        {
          "output_type": "execute_result",
          "data": {
            "application/vnd.google.colaboratory.intrinsic+json": {
              "type": "string"
            },
            "text/plain": [
              "'2.4.1'"
            ]
          },
          "metadata": {
            "tags": []
          },
          "execution_count": 41
        }
      ]
    },
    {
      "cell_type": "markdown",
      "metadata": {
        "id": "LOaheWoJYpeX"
      },
      "source": [
        "### tensorflow documentation\n",
        "1. tf.keras\n",
        "2. tf.data"
      ]
    },
    {
      "cell_type": "markdown",
      "metadata": {
        "id": "FH8tnUnapK5-"
      },
      "source": [
        "# Week 2\n",
        "\n",
        "## keras\n",
        "\n",
        "**example: **\n",
        "\\\n",
        "from tensorflow.keras.models import Sequencial \n",
        "from tensorflow.keras.layers import Dense\n",
        "\n",
        "model = Sequencial([\n",
        "                    Dense(64, activation = 'relu', input_shape = (784, )),\n",
        "                    Desen(10, activation = 'softmax')\n",
        "])\n",
        "\\\n",
        "\\\n",
        "**or: **\n",
        "\\\n",
        "model = Sequential()\n",
        "\n",
        "model.add(Dense(64, activation = 'relu', input_shape = (784, )))\n",
        "model.add(Dense(10, activation = 'Softmax'))\n",
        "\\\n",
        "\\\n",
        "**or: **\n",
        "\\\n",
        "from tensorflow.keras.models import Sequencial \n",
        "from tensorflow.keras.layers import Flattern, Dense #importing two layer types, \n",
        "\n",
        "model = Sequential([\n",
        "  Flatten(input_shape = (28, 28)), #(784, )\n",
        "  Dense(64, activation = 'relu'),\n",
        "  Dense(10, activation='softmax')\n",
        "])\n",
        "\n",
        "\n"
      ]
    },
    {
      "cell_type": "code",
      "metadata": {
        "colab": {
          "base_uri": "https://localhost:8080/"
        },
        "id": "lsWpN8Hvx9yW",
        "outputId": "68c4b440-fc65-4d23-cbbc-d061012db9f3"
      },
      "source": [
        "import tensorflow as tf\n",
        "print(tf.__version__)"
      ],
      "execution_count": 42,
      "outputs": [
        {
          "output_type": "stream",
          "text": [
            "2.4.1\n"
          ],
          "name": "stdout"
        }
      ]
    },
    {
      "cell_type": "markdown",
      "metadata": {
        "id": "g_4n3Lkj2yhi"
      },
      "source": [
        "## buidling a sequencial model"
      ]
    },
    {
      "cell_type": "code",
      "metadata": {
        "id": "w99iQBxM2r1P"
      },
      "source": [
        "from tensorflow.keras.models import Sequential\n",
        "from tensorflow.keras.layers import Dense, Flatten, Softmax"
      ],
      "execution_count": 43,
      "outputs": []
    },
    {
      "cell_type": "code",
      "metadata": {
        "id": "0roOMKOJ2tos"
      },
      "source": [
        "# build a feedforward neural network model\n",
        "\n",
        "model = Sequential([\n",
        "                    Flatten(input_shape = (28, 28)),\n",
        "                     Dense(16, activation='relu'),\n",
        "                     Dense(16, activation='relu'),\n",
        "                     Dense(10, activation='softmax')\n",
        " ])"
      ],
      "execution_count": 44,
      "outputs": []
    },
    {
      "cell_type": "code",
      "metadata": {
        "colab": {
          "base_uri": "https://localhost:8080/"
        },
        "id": "5xkAX1Ra3GCe",
        "outputId": "04d7aee5-6273-4610-cb2f-7a81f8ec4bda"
      },
      "source": [
        "# print the model summary \n",
        "model.weights"
      ],
      "execution_count": 45,
      "outputs": [
        {
          "output_type": "execute_result",
          "data": {
            "text/plain": [
              "[<tf.Variable 'dense_6/kernel:0' shape=(784, 16) dtype=float32, numpy=\n",
              " array([[-0.06881519,  0.0267984 ,  0.06040482, ..., -0.07250033,\n",
              "         -0.04165928,  0.01652335],\n",
              "        [-0.06712843,  0.02451083, -0.00286604, ..., -0.00356296,\n",
              "          0.05664487, -0.06251019],\n",
              "        [-0.06636852, -0.01976561,  0.05533181, ..., -0.03097941,\n",
              "          0.0671923 ,  0.07679647],\n",
              "        ...,\n",
              "        [ 0.0099555 ,  0.04761758,  0.08117869, ...,  0.0082216 ,\n",
              "          0.04090729, -0.04186653],\n",
              "        [-0.07063329, -0.07413534, -0.00749902, ...,  0.02081211,\n",
              "         -0.02314015, -0.06167324],\n",
              "        [ 0.06688593,  0.04431061,  0.06055011, ...,  0.05941266,\n",
              "          0.01516477,  0.07140529]], dtype=float32)>,\n",
              " <tf.Variable 'dense_6/bias:0' shape=(16,) dtype=float32, numpy=\n",
              " array([0., 0., 0., 0., 0., 0., 0., 0., 0., 0., 0., 0., 0., 0., 0., 0.],\n",
              "       dtype=float32)>,\n",
              " <tf.Variable 'dense_7/kernel:0' shape=(16, 16) dtype=float32, numpy=\n",
              " array([[-0.0557209 ,  0.1612843 , -0.00092998, -0.08606768, -0.10810989,\n",
              "         -0.17984137, -0.35452786, -0.06495908, -0.42547795, -0.18958676,\n",
              "         -0.3261142 , -0.27371192, -0.03456894,  0.4103808 , -0.19688994,\n",
              "          0.21854767],\n",
              "        [-0.33613804,  0.25145128, -0.18374637, -0.23507932, -0.3028661 ,\n",
              "          0.2271978 ,  0.07084355,  0.43165407,  0.12729916,  0.04557061,\n",
              "         -0.17692044,  0.33414492,  0.25599006, -0.28917897,  0.38093176,\n",
              "          0.32434657],\n",
              "        [ 0.39602652, -0.24912386, -0.03826174, -0.13095486, -0.01222774,\n",
              "         -0.32280523, -0.1274139 , -0.38346916,  0.15103498, -0.32324842,\n",
              "          0.38122764,  0.4038829 , -0.11574063, -0.41078055,  0.1354489 ,\n",
              "         -0.18883716],\n",
              "        [ 0.268168  ,  0.07632539, -0.10637847,  0.4153572 , -0.21389297,\n",
              "         -0.3266017 ,  0.13328132, -0.41993096, -0.22335733,  0.28769246,\n",
              "         -0.2458924 , -0.20617932, -0.15372425,  0.11074898,  0.27010724,\n",
              "         -0.24553178],\n",
              "        [-0.37980595, -0.0169034 , -0.07499859, -0.3520197 , -0.22073881,\n",
              "          0.04313976, -0.09858492,  0.06220993, -0.29289615, -0.08771071,\n",
              "         -0.2048426 , -0.20294775, -0.11570749,  0.24712422,  0.30902424,\n",
              "         -0.21110089],\n",
              "        [-0.24780963, -0.42076626,  0.36416224,  0.3478242 , -0.06501719,\n",
              "          0.00362107, -0.33373877,  0.34677652, -0.03560099,  0.27872828,\n",
              "          0.06466526,  0.05047536, -0.07156828,  0.23239872,  0.07088462,\n",
              "         -0.1569072 ],\n",
              "        [ 0.25193802,  0.3747675 ,  0.12213966, -0.31106353,  0.0839074 ,\n",
              "         -0.16428885,  0.34357086,  0.31834546, -0.06671163, -0.4045528 ,\n",
              "          0.21858135,  0.158622  , -0.09641039,  0.43161204,  0.00088453,\n",
              "          0.3368313 ],\n",
              "        [ 0.33129397,  0.17824313,  0.41873017,  0.05629107,  0.09986547,\n",
              "         -0.42743587, -0.19174413, -0.04221019,  0.09126708, -0.41645172,\n",
              "         -0.1681383 , -0.03475928, -0.3319548 ,  0.13075724, -0.06929228,\n",
              "          0.21390495],\n",
              "        [ 0.21211109, -0.11979285,  0.06480587, -0.32765618, -0.11205462,\n",
              "         -0.19775414, -0.09233043, -0.09954181, -0.13792777, -0.10832244,\n",
              "          0.04429913, -0.0700928 ,  0.2681361 , -0.35904825,  0.09024581,\n",
              "         -0.23168568],\n",
              "        [ 0.4007599 , -0.03570816,  0.4002501 , -0.01430747, -0.40765324,\n",
              "         -0.36149645,  0.12121311, -0.1362609 , -0.02214152, -0.24551992,\n",
              "         -0.31599015, -0.42118633,  0.07586339,  0.07298699, -0.39645085,\n",
              "         -0.28107837],\n",
              "        [-0.3120125 , -0.2075435 , -0.03243077,  0.02531537, -0.03565273,\n",
              "         -0.18253496, -0.07548183, -0.38291642,  0.08030006,  0.24836072,\n",
              "         -0.02496642,  0.4129273 ,  0.3548409 , -0.15672818,  0.276652  ,\n",
              "         -0.02882463],\n",
              "        [-0.2507605 ,  0.26880482,  0.0440172 ,  0.12744018,  0.28582808,\n",
              "          0.2761791 , -0.25944418, -0.08861127,  0.058759  ,  0.42543808,\n",
              "          0.17660639, -0.25611165,  0.2223396 , -0.34329253,  0.12083182,\n",
              "          0.33522543],\n",
              "        [ 0.11364499,  0.4016414 , -0.20920885,  0.09465042, -0.15458012,\n",
              "          0.25118396,  0.36231336, -0.15012467, -0.10446072, -0.0146496 ,\n",
              "          0.01697052, -0.09630552, -0.26464078,  0.16389903,  0.20183805,\n",
              "         -0.28314686],\n",
              "        [-0.40291315,  0.21440688, -0.00382116, -0.11548615, -0.01676548,\n",
              "          0.18660256,  0.062783  ,  0.02345067, -0.34726205,  0.20425865,\n",
              "          0.012775  , -0.08207268, -0.36022735,  0.3978615 , -0.05955228,\n",
              "          0.38379613],\n",
              "        [-0.43023136,  0.3685684 , -0.32899114,  0.12260988,  0.27101603,\n",
              "          0.09376928,  0.1860682 ,  0.07229784,  0.12838814, -0.20197555,\n",
              "         -0.39714938, -0.2688243 ,  0.3037338 ,  0.34276012, -0.19095415,\n",
              "         -0.31178504],\n",
              "        [-0.10659301,  0.26572064,  0.2501687 , -0.30175442,  0.132004  ,\n",
              "         -0.1843118 ,  0.26178768, -0.13494873, -0.33171633, -0.0448499 ,\n",
              "         -0.36477166, -0.25279367,  0.01970983,  0.40959755, -0.35539538,\n",
              "         -0.03914991]], dtype=float32)>,\n",
              " <tf.Variable 'dense_7/bias:0' shape=(16,) dtype=float32, numpy=\n",
              " array([0., 0., 0., 0., 0., 0., 0., 0., 0., 0., 0., 0., 0., 0., 0., 0.],\n",
              "       dtype=float32)>,\n",
              " <tf.Variable 'dense_8/kernel:0' shape=(16, 10) dtype=float32, numpy=\n",
              " array([[-0.08360088, -0.36260363, -0.37452006, -0.2842158 , -0.21289831,\n",
              "         -0.25430965,  0.31756002,  0.36365938, -0.16394264, -0.30057186],\n",
              "        [ 0.15785706,  0.2245102 ,  0.3847407 , -0.1890988 ,  0.13300896,\n",
              "          0.40259176, -0.11213106, -0.4444272 , -0.37413478,  0.41787124],\n",
              "        [ 0.04204834, -0.4080932 , -0.17876038,  0.3062029 , -0.43145284,\n",
              "          0.10016793,  0.3856625 , -0.4739555 , -0.01264176, -0.30574885],\n",
              "        [-0.03938857,  0.0870356 , -0.18549332,  0.28974247,  0.29437345,\n",
              "          0.12535983,  0.03701866, -0.17796978,  0.29930812, -0.16595784],\n",
              "        [-0.29210916,  0.41982788, -0.35088328, -0.29941165, -0.05490255,\n",
              "         -0.4694947 , -0.15432051, -0.36738995, -0.31909317, -0.46633396],\n",
              "        [-0.44637024, -0.2651025 , -0.26936024, -0.18734288,  0.0742715 ,\n",
              "          0.09375089, -0.34572357, -0.11179847, -0.34182146, -0.11397585],\n",
              "        [-0.05137312, -0.04405782,  0.25597608, -0.23753497,  0.05083263,\n",
              "          0.16589242,  0.3472423 ,  0.05898786,  0.08269149,  0.24297225],\n",
              "        [ 0.06539685,  0.13529599, -0.09902442, -0.11638549,  0.2763573 ,\n",
              "          0.27745003, -0.30213764, -0.16927859,  0.28544015,  0.36781603],\n",
              "        [ 0.4418847 ,  0.11947113,  0.1594693 ,  0.39553952,  0.4719693 ,\n",
              "          0.2794944 ,  0.14565486, -0.11559188,  0.20300639,  0.04195595],\n",
              "        [-0.20126489, -0.11201411,  0.26080263,  0.23153919, -0.14756915,\n",
              "         -0.01278895,  0.2925294 , -0.04900607, -0.01111379,  0.15185189],\n",
              "        [-0.13196066, -0.34572896, -0.44051796,  0.20677894,  0.1022436 ,\n",
              "         -0.33480084, -0.10319787, -0.43753234,  0.11794841,  0.30918026],\n",
              "        [ 0.45527422,  0.36978805, -0.3211891 , -0.13335657, -0.10403958,\n",
              "         -0.2457032 ,  0.30673873,  0.16025573,  0.39005113,  0.16232657],\n",
              "        [-0.43894932,  0.34302557, -0.38016295,  0.29719406,  0.22208852,\n",
              "         -0.47238666, -0.32336283,  0.13463932,  0.05676049,  0.41951787],\n",
              "        [ 0.42099118,  0.293302  ,  0.09982282, -0.10237426, -0.4187097 ,\n",
              "          0.09901512,  0.2750051 ,  0.25814694, -0.20793208, -0.28759098],\n",
              "        [-0.06326196, -0.27704355, -0.4110941 , -0.18450329, -0.2553984 ,\n",
              "          0.25080943,  0.27226204,  0.21053565,  0.18115163, -0.13053861],\n",
              "        [ 0.0814662 ,  0.15378278, -0.24482371, -0.23371209, -0.09995374,\n",
              "         -0.04606077,  0.44121224,  0.402659  ,  0.38373435, -0.42708856]],\n",
              "       dtype=float32)>,\n",
              " <tf.Variable 'dense_8/bias:0' shape=(10,) dtype=float32, numpy=array([0., 0., 0., 0., 0., 0., 0., 0., 0., 0.], dtype=float32)>]"
            ]
          },
          "metadata": {
            "tags": []
          },
          "execution_count": 45
        }
      ]
    },
    {
      "cell_type": "code",
      "metadata": {
        "colab": {
          "base_uri": "https://localhost:8080/"
        },
        "id": "bncDbazU3GFG",
        "outputId": "0fc25170-7965-40d6-c508-fc6876982f2b"
      },
      "source": [
        "# more clearer way to check the model\n",
        "model.summary()"
      ],
      "execution_count": 46,
      "outputs": [
        {
          "output_type": "stream",
          "text": [
            "Model: \"sequential_4\"\n",
            "_________________________________________________________________\n",
            "Layer (type)                 Output Shape              Param #   \n",
            "=================================================================\n",
            "flatten_2 (Flatten)          (None, 784)               0         \n",
            "_________________________________________________________________\n",
            "dense_6 (Dense)              (None, 16)                12560     \n",
            "_________________________________________________________________\n",
            "dense_7 (Dense)              (None, 16)                272       \n",
            "_________________________________________________________________\n",
            "dense_8 (Dense)              (None, 10)                170       \n",
            "=================================================================\n",
            "Total params: 13,002\n",
            "Trainable params: 13,002\n",
            "Non-trainable params: 0\n",
            "_________________________________________________________________\n"
          ],
          "name": "stdout"
        }
      ]
    },
    {
      "cell_type": "code",
      "metadata": {
        "id": "2yqua9LR3GII"
      },
      "source": [
        "model = Sequential([\n",
        "                    Flatten(input_shape = (28, 28)),\n",
        "                     Dense(16, activation='relu', name = 'layer_1'),\n",
        "                     Dense(16, activation='relu'),\n",
        "                     Dense(10),\n",
        "                    Softmax()\n",
        " ])"
      ],
      "execution_count": 47,
      "outputs": []
    },
    {
      "cell_type": "code",
      "metadata": {
        "colab": {
          "base_uri": "https://localhost:8080/"
        },
        "id": "vPSmDfXf4V89",
        "outputId": "2f5c8f92-ac82-4875-c30b-2151ccb64862"
      },
      "source": [
        "model.summary()"
      ],
      "execution_count": 48,
      "outputs": [
        {
          "output_type": "stream",
          "text": [
            "Model: \"sequential_5\"\n",
            "_________________________________________________________________\n",
            "Layer (type)                 Output Shape              Param #   \n",
            "=================================================================\n",
            "flatten_3 (Flatten)          (None, 784)               0         \n",
            "_________________________________________________________________\n",
            "layer_1 (Dense)              (None, 16)                12560     \n",
            "_________________________________________________________________\n",
            "dense_9 (Dense)              (None, 16)                272       \n",
            "_________________________________________________________________\n",
            "dense_10 (Dense)             (None, 10)                170       \n",
            "_________________________________________________________________\n",
            "softmax (Softmax)            (None, 10)                0         \n",
            "=================================================================\n",
            "Total params: 13,002\n",
            "Trainable params: 13,002\n",
            "Non-trainable params: 0\n",
            "_________________________________________________________________\n"
          ],
          "name": "stdout"
        }
      ]
    },
    {
      "cell_type": "markdown",
      "metadata": {
        "id": "4jWj-ohY3GKz"
      },
      "source": [
        "## Convolutional and pooling layers \n",
        "\n",
        "**example **\n",
        "\n",
        "from tensorflow.keras.models import Sequential\n",
        "from tensorflow.keras.layers import Flattern, Dense, Cov2D, MaxPooling2D"
      ]
    },
    {
      "cell_type": "code",
      "metadata": {
        "id": "OYEsfLYe572J"
      },
      "source": [
        "#example\n",
        "\n",
        "from tensorflow.keras.models import Sequential\n",
        "from tensorflow.keras.layers import Flatten, Dense, Conv2D, MaxPooling2D"
      ],
      "execution_count": 49,
      "outputs": []
    },
    {
      "cell_type": "code",
      "metadata": {
        "id": "s1BSWBJA3GNa"
      },
      "source": [
        "\n",
        "model = Sequential([\n",
        "                    Conv2D(16, (3, 3), activation = 'relu', input_shape = (32, 32, 3)),  #original picture: 32*32 3D. using 16 3*3 filters \n",
        "                    MaxPooling2D((3, 3)), #pooling window size \n",
        "                    Flatten(),\n",
        "                    Dense(64, activation='relu'), \n",
        "                    Dense(10, activation='softmax')\n",
        "])"
      ],
      "execution_count": 50,
      "outputs": []
    },
    {
      "cell_type": "code",
      "metadata": {
        "colab": {
          "base_uri": "https://localhost:8080/",
          "height": 358
        },
        "id": "Aw8qhZ6x3GQA",
        "outputId": "9e066afc-f0ee-43a9-c313-fcdca7811b11"
      },
      "source": [
        "model.summary()\n",
        "\n",
        "# None: means the batch size\n",
        "'''\n",
        "layer1: 16: we created the layer with 16 filters, 30 = 32 - 3 + 1, there is no zero padding by default \n",
        "layer2: pooling is non-overlapping, 30/3 = 10\n",
        "flattern: 16*10*10\n",
        "Dense1: 1601*64\n",
        "Dense2: 65*10\n",
        "'''"
      ],
      "execution_count": 51,
      "outputs": [
        {
          "output_type": "stream",
          "text": [
            "Model: \"sequential_6\"\n",
            "_________________________________________________________________\n",
            "Layer (type)                 Output Shape              Param #   \n",
            "=================================================================\n",
            "conv2d_3 (Conv2D)            (None, 30, 30, 16)        448       \n",
            "_________________________________________________________________\n",
            "max_pooling2d_3 (MaxPooling2 (None, 10, 10, 16)        0         \n",
            "_________________________________________________________________\n",
            "flatten_4 (Flatten)          (None, 1600)              0         \n",
            "_________________________________________________________________\n",
            "dense_11 (Dense)             (None, 64)                102464    \n",
            "_________________________________________________________________\n",
            "dense_12 (Dense)             (None, 10)                650       \n",
            "=================================================================\n",
            "Total params: 103,562\n",
            "Trainable params: 103,562\n",
            "Non-trainable params: 0\n",
            "_________________________________________________________________\n"
          ],
          "name": "stdout"
        },
        {
          "output_type": "execute_result",
          "data": {
            "application/vnd.google.colaboratory.intrinsic+json": {
              "type": "string"
            },
            "text/plain": [
              "'\\nlayer1: 16: we created the layer with 16 filters, 30 = 32 - 3 + 1, there is no zero padding by default \\nlayer2: pooling is non-overlapping, 30/3 = 10\\nflattern: 16*10*10\\nDense1: 1601*64\\nDense2: 65*10\\n'"
            ]
          },
          "metadata": {
            "tags": []
          },
          "execution_count": 51
        }
      ]
    },
    {
      "cell_type": "code",
      "metadata": {
        "id": "JhnI5Thm3GSd"
      },
      "source": [
        "same_padding = Sequential([\n",
        "                    Conv2D(16, kernel_size = (3, 3), padding = 'SAME',\n",
        "                           activation = 'relu', input_shape = (32, 32, 3)),  #original picture: 32*32 3D. using 16 3*3 filters \n",
        "                    MaxPooling2D((3, 3)), #pooling window size \n",
        "                    Flatten(),\n",
        "                    Dense(64, activation='relu'), \n",
        "                    Dense(10, activation='softmax')\n",
        "])"
      ],
      "execution_count": 52,
      "outputs": []
    },
    {
      "cell_type": "code",
      "metadata": {
        "colab": {
          "base_uri": "https://localhost:8080/"
        },
        "id": "XSZrsdYt3GVI",
        "outputId": "11060f9c-2148-448d-cc00-7c0ce868f7b5"
      },
      "source": [
        "same_padding.summary()"
      ],
      "execution_count": 53,
      "outputs": [
        {
          "output_type": "stream",
          "text": [
            "Model: \"sequential_7\"\n",
            "_________________________________________________________________\n",
            "Layer (type)                 Output Shape              Param #   \n",
            "=================================================================\n",
            "conv2d_4 (Conv2D)            (None, 32, 32, 16)        448       \n",
            "_________________________________________________________________\n",
            "max_pooling2d_4 (MaxPooling2 (None, 10, 10, 16)        0         \n",
            "_________________________________________________________________\n",
            "flatten_5 (Flatten)          (None, 1600)              0         \n",
            "_________________________________________________________________\n",
            "dense_13 (Dense)             (None, 64)                102464    \n",
            "_________________________________________________________________\n",
            "dense_14 (Dense)             (None, 10)                650       \n",
            "=================================================================\n",
            "Total params: 103,562\n",
            "Trainable params: 103,562\n",
            "Non-trainable params: 0\n",
            "_________________________________________________________________\n"
          ],
          "name": "stdout"
        }
      ]
    },
    {
      "cell_type": "code",
      "metadata": {
        "id": "jfFnjLhD3GYG"
      },
      "source": [
        "# build the sequential convolutional neural network model\n",
        "# remember to define channels_first for the pooling layer to have exactly the same neural network as before \n",
        "\n",
        "model = Sequential([\n",
        "                    Conv2D(16, (3, 3,), padding = 'SAME', strides = 2, activation='relu', input_shape = (28, 28, 1), data_format='channels_first'), # default is channels_last, if it changes to channels_first: input_shape will change to (1, 28, 28)\n",
        "                    MaxPooling2D((3, 3)), \n",
        "                    Flatten(),\n",
        "                    Dense(10, activation = 'softmax')\n",
        "])"
      ],
      "execution_count": 54,
      "outputs": []
    },
    {
      "cell_type": "code",
      "metadata": {
        "colab": {
          "base_uri": "https://localhost:8080/"
        },
        "id": "1bpwtStz3Ga9",
        "outputId": "b84281cd-1d38-405c-fe1b-44229d91b3ea"
      },
      "source": [
        "model.summary()"
      ],
      "execution_count": 55,
      "outputs": [
        {
          "output_type": "stream",
          "text": [
            "Model: \"sequential_8\"\n",
            "_________________________________________________________________\n",
            "Layer (type)                 Output Shape              Param #   \n",
            "=================================================================\n",
            "conv2d_5 (Conv2D)            (None, 16, 14, 1)         4048      \n",
            "_________________________________________________________________\n",
            "max_pooling2d_5 (MaxPooling2 (None, 5, 4, 1)           0         \n",
            "_________________________________________________________________\n",
            "flatten_6 (Flatten)          (None, 20)                0         \n",
            "_________________________________________________________________\n",
            "dense_15 (Dense)             (None, 10)                210       \n",
            "=================================================================\n",
            "Total params: 4,258\n",
            "Trainable params: 4,258\n",
            "Non-trainable params: 0\n",
            "_________________________________________________________________\n"
          ],
          "name": "stdout"
        }
      ]
    },
    {
      "cell_type": "markdown",
      "metadata": {
        "id": "JgvxlW9g77oM"
      },
      "source": [
        "## the compile method"
      ]
    },
    {
      "cell_type": "code",
      "metadata": {
        "id": "0xsh5DIG3Gdk"
      },
      "source": [
        "# example \n",
        "\n",
        "import tensorflow as tf\n",
        "from tensorflow.keras.models import Sequential\n",
        "from tensorflow.keras.layers import Dense\n",
        "\n",
        "model = Sequential([\n",
        "                    Dense(64, activation='elu', input_shape = (32, )),\n",
        "                    Dense(1, activation='sigmoid')\n",
        "])\n",
        "\n",
        "model.compile(\n",
        "    optimizer = 'sgd', #'adam', 'rmsprop', 'adadelta'\n",
        "    loss = 'binary_crossentropy', # binary cross entropy suitable for binary classification issues #'mean_squared_error' (regression task), 'categorical_crossentropy'\n",
        "    metrics = ['accuracy', 'mae'] # mae: mean absolute error\n",
        ")"
      ],
      "execution_count": 56,
      "outputs": []
    },
    {
      "cell_type": "code",
      "metadata": {
        "id": "jTIlKwYG3GgA"
      },
      "source": [
        "# or: \n",
        "# this will give more flexibility, as many of these objects themselves have options that you might want to have control over. \n",
        "\n",
        "model = Sequential([\n",
        "                    Dense(64, activation='elu', input_shape = (32, )),\n",
        "                    Dense(1, activation='sigmoid')\n",
        "])\n",
        "\n",
        "model.compile(\n",
        "    optimizer = tf.keras.optimizers.SGD(),\n",
        "    loss = tf.keras.losses.BinaryCrossentropy(),\n",
        "    metrics = [tf.keras.metrics.BinaryAccuracy(), tf.keras.metrics.MeanAbsoluteError()] \n",
        ")\n",
        "\n",
        "model_1 = Sequential([\n",
        "                    Dense(64, activation='elu', input_shape = (32, )),\n",
        "                    Dense(1, activation='linear')\n",
        "])\n",
        "\n",
        "model_1.compile(\n",
        "    optimizer = tf.keras.optimizers.SGD(learning_rate=0.001, momentum=0.9, nesterov=True),\n",
        "    loss = tf.keras.losses.BinaryCrossentropy(from_logits=True), # from_logits=True: tells the loss functionitself shouls handle the squeezing of the output through the sigmoid activation. it has a more numerically stable approach. \n",
        "    metrics = [tf.keras.metrics.BinaryAccuracy(threshold=0.7), tf.keras.metrics.MeanAbsoluteError()] \n",
        ")\n"
      ],
      "execution_count": 57,
      "outputs": []
    },
    {
      "cell_type": "code",
      "metadata": {
        "id": "33Szr41p3Giq"
      },
      "source": [
        "# tutorials \n",
        "\n",
        "# in order to tune a apecific parameters: \n",
        "opt = tf.keras.optimizers.Adam(learning_rate=0.005)\n",
        "acc = tf.keras.metrics.SparseCategoricalAccuracy()\n",
        "mae = tf.keras.metrics.MeanAbsoluteError()\n",
        "\n",
        "\n",
        "model.compile(\n",
        "    optimizer = opt,\n",
        "    loss = 'sparse_categorical_crossentropy', # sparse_categorical_crossentropy for data labels are integers, categorical_crossentropy: if the data labels are vectors. \n",
        "    metrics = [acc, mae]\n",
        ")"
      ],
      "execution_count": 58,
      "outputs": []
    },
    {
      "cell_type": "code",
      "metadata": {
        "colab": {
          "base_uri": "https://localhost:8080/"
        },
        "id": "dF1XMmHL3Gk7",
        "outputId": "c6cedb3d-62ee-491f-b322-d69e54ba3b1a"
      },
      "source": [
        "print(model.loss)\n",
        "print(model.optimizer)\n",
        "print(model.metrics)\n",
        "print(model.optimizer.lr)"
      ],
      "execution_count": 59,
      "outputs": [
        {
          "output_type": "stream",
          "text": [
            "sparse_categorical_crossentropy\n",
            "<tensorflow.python.keras.optimizer_v2.adam.Adam object at 0x7f54913f5550>\n",
            "[]\n",
            "<tf.Variable 'learning_rate:0' shape=() dtype=float32, numpy=0.005>\n"
          ],
          "name": "stdout"
        }
      ]
    },
    {
      "cell_type": "markdown",
      "metadata": {
        "id": "P4ufWe7hHTOb"
      },
      "source": [
        "## Optimisers, loss functions and metrics"
      ]
    },
    {
      "cell_type": "markdown",
      "metadata": {
        "id": "y8cA_LF1UZ1o"
      },
      "source": [
        "## train the models"
      ]
    },
    {
      "cell_type": "code",
      "metadata": {
        "id": "hBMEmy653Gna"
      },
      "source": [
        "# example \n",
        "\n",
        "import tensorflow as tf\n",
        "from tensorflow.keras.models import Sequential\n",
        "from tensorflow.keras.layers import Dense\n",
        "\n",
        "model = Sequential([\n",
        "                    Dense(64, activation='elu', input_shape=(32,)),\n",
        "                    Dense(100, activation='softmax')\n",
        "])\n",
        "\n",
        "model.compile(\n",
        "    optimizer = 'rmsprop',\n",
        "    loss = 'categorical_crossentropy',\n",
        "    metrics=['accuracy']\n",
        ")\n",
        "\n",
        "# model.fit(X_trian, y_train)\n",
        "# X_train: (num_samples, num_features)\n",
        "# y_train: (num_samples, num_features)\n",
        "\n",
        "# under the sparse categorical issue: \n",
        "model = Sequential([\n",
        "                    Dense(64, activation='elu', input_shape=(32,)),\n",
        "                    Dense(100, activation='softmax')\n",
        "])\n",
        "\n",
        "model.compile(\n",
        "    optimizer = 'rmsprop',\n",
        "    loss = 'sparse_categorical_crossentropy',\n",
        "    metrics=['accuracy']\n",
        ")\n",
        "\n",
        "# epochs: the training will make 10 complete passes through the dataset\n",
        "#batch_size: default = 32, \n",
        "\n",
        "# histrory = model.fit(X_trian, y_train, epochs = 10, batch_size = 16) \n",
        "# X_train: (num_samples, num_features)\n",
        "# y_train: (num_samples, )"
      ],
      "execution_count": 60,
      "outputs": []
    },
    {
      "cell_type": "code",
      "metadata": {
        "id": "3N2q5k1Z3Gpr"
      },
      "source": [
        "# tutorials\n",
        "\n",
        "from tensorflow.keras.preprocessing import image\n",
        "import matplotlib.pyplot as plt\n",
        "import numpy as np\n",
        "import pandas as pd"
      ],
      "execution_count": 61,
      "outputs": []
    },
    {
      "cell_type": "code",
      "metadata": {
        "id": "BkLHrJ9I3GsU"
      },
      "source": [
        "# Load the Fashion-MNIST dataset\n",
        "\n",
        "fashion_mnist_data = tf.keras.datasets.fashion_mnist\n",
        "(train_images, train_labels), (test_images, test_labels) = fashion_mnist_data.load_data()"
      ],
      "execution_count": 62,
      "outputs": []
    },
    {
      "cell_type": "code",
      "metadata": {
        "id": "IjGprBhV3Gwp"
      },
      "source": [
        "from tensorflow.keras.models import Sequential\n",
        "from tensorflow.keras.layers import Dense, Flatten, Conv2D, MaxPooling2D\n",
        "\n",
        "model = Sequential([\n",
        "                    Conv2D(16, (3, 3), activation = 'relu', input_shape = (28, 28, 1)),\n",
        "                    MaxPooling2D((3, 3)),\n",
        "                    Flatten(),\n",
        "                    Dense(10, activation = 'softmax')\n",
        "])"
      ],
      "execution_count": 63,
      "outputs": []
    },
    {
      "cell_type": "code",
      "metadata": {
        "id": "imBQ-Axj3Gz3"
      },
      "source": [
        "opt = tf.keras.optimizers.Adam(learning_rate=0.005)\n",
        "acc = tf.keras.metrics.SparseCategoricalAccuracy()\n",
        "mae = tf.keras.metrics.MeanAbsoluteError()\n",
        "\n",
        "\n",
        "model.compile(\n",
        "    optimizer = opt,\n",
        "    loss = 'sparse_categorical_crossentropy', # sparse_categorical_crossentropy for data labels are integers, categorical_crossentropy: if the data labels are vectors. \n",
        "    metrics = [acc, mae]\n",
        ")"
      ],
      "execution_count": 64,
      "outputs": []
    },
    {
      "cell_type": "code",
      "metadata": {
        "colab": {
          "base_uri": "https://localhost:8080/"
        },
        "id": "f9At9anl3G3N",
        "outputId": "94727c34-13a9-4077-a750-2a801835b120"
      },
      "source": [
        "train_images.shape"
      ],
      "execution_count": 65,
      "outputs": [
        {
          "output_type": "execute_result",
          "data": {
            "text/plain": [
              "(60000, 28, 28)"
            ]
          },
          "metadata": {
            "tags": []
          },
          "execution_count": 65
        }
      ]
    },
    {
      "cell_type": "code",
      "metadata": {
        "colab": {
          "base_uri": "https://localhost:8080/"
        },
        "id": "xwkxHht-fBgz",
        "outputId": "b5274147-aa63-4f4f-a021-6b0916fafd52"
      },
      "source": [
        "# define the labels\n",
        "\n",
        "labels = [\n",
        "    'T-shirt/top',\n",
        "    'Trouser',\n",
        "    'Pullover',\n",
        "    'Dress',\n",
        "    'Coat',\n",
        "    'Sandal',\n",
        "    'Shirt',\n",
        "    'Sneaker',\n",
        "    'Bag',\n",
        "    'Ankle boot'\n",
        "]\n",
        "\n",
        "print(train_labels)"
      ],
      "execution_count": 66,
      "outputs": [
        {
          "output_type": "stream",
          "text": [
            "[9 0 0 ... 3 0 5]\n"
          ],
          "name": "stdout"
        }
      ]
    },
    {
      "cell_type": "code",
      "metadata": {
        "id": "FJORGCr1fO_Y"
      },
      "source": [
        "# rescale the image values so that they lie in between 0 and 1\n",
        "\n",
        "train_images = train_images/255.\n",
        "test_images = test_images/255."
      ],
      "execution_count": 67,
      "outputs": []
    },
    {
      "cell_type": "code",
      "metadata": {
        "colab": {
          "base_uri": "https://localhost:8080/",
          "height": 282
        },
        "id": "LxS8S3iOfnJR",
        "outputId": "58b7b8bc-3966-4471-9279-86338a4b1fda"
      },
      "source": [
        "# display one of the images \n",
        "\n",
        "i = 0 \n",
        "img = train_images[i,:,:]\n",
        "plt.imshow(img)\n",
        "plt.show()\n",
        "print(f\"label: {labels[train_labels[i]]}\")"
      ],
      "execution_count": 68,
      "outputs": [
        {
          "output_type": "display_data",
          "data": {
            "image/png": "[encoded data removed]",
            "text/plain": [
              "<Figure size 432x288 with 1 Axes>"
            ]
          },
          "metadata": {
            "tags": [],
            "needs_background": "light"
          }
        },
        {
          "output_type": "stream",
          "text": [
            "label: Ankle boot\n"
          ],
          "name": "stdout"
        }
      ]
    },
    {
      "cell_type": "code",
      "metadata": {
        "colab": {
          "base_uri": "https://localhost:8080/"
        },
        "id": "CaQBWJLxfyev",
        "outputId": "4b055b52-de83-44e5-d49b-e1087b5560b1"
      },
      "source": [
        "# fit the model\n",
        "\n",
        "history = model.fit(train_images[...,np.newaxis], train_labels, epochs=8, batch_size=256)"
      ],
      "execution_count": 69,
      "outputs": [
        {
          "output_type": "stream",
          "text": [
            "Epoch 1/8\n",
            "235/235 [==============================] - 13s 53ms/step - loss: 0.7969 - sparse_categorical_accuracy: 0.7228 - mean_absolute_error: 4.4234\n",
            "Epoch 2/8\n",
            "235/235 [==============================] - 12s 52ms/step - loss: 0.3790 - sparse_categorical_accuracy: 0.8675 - mean_absolute_error: 4.4281\n",
            "Epoch 3/8\n",
            "235/235 [==============================] - 12s 52ms/step - loss: 0.3368 - sparse_categorical_accuracy: 0.8834 - mean_absolute_error: 4.4191\n",
            "Epoch 4/8\n",
            "235/235 [==============================] - 13s 54ms/step - loss: 0.3216 - sparse_categorical_accuracy: 0.8851 - mean_absolute_error: 4.4179\n",
            "Epoch 5/8\n",
            "235/235 [==============================] - 13s 54ms/step - loss: 0.3022 - sparse_categorical_accuracy: 0.8921 - mean_absolute_error: 4.4138\n",
            "Epoch 6/8\n",
            "235/235 [==============================] - 12s 52ms/step - loss: 0.2903 - sparse_categorical_accuracy: 0.8980 - mean_absolute_error: 4.4086\n",
            "Epoch 7/8\n",
            "235/235 [==============================] - 12s 52ms/step - loss: 0.2812 - sparse_categorical_accuracy: 0.9000 - mean_absolute_error: 4.4189\n",
            "Epoch 8/8\n",
            "235/235 [==============================] - 12s 52ms/step - loss: 0.2765 - sparse_categorical_accuracy: 0.8995 - mean_absolute_error: 4.4227\n"
          ],
          "name": "stdout"
        }
      ]
    },
    {
      "cell_type": "code",
      "metadata": {
        "colab": {
          "base_uri": "https://localhost:8080/",
          "height": 204
        },
        "id": "RDysAUs1gQKz",
        "outputId": "18faed45-6bcf-4e9b-b869-804f14a828e7"
      },
      "source": [
        "# plot the training history \n",
        "\n",
        "df = pd.DataFrame(history.history)\n",
        "df.head()"
      ],
      "execution_count": 70,
      "outputs": [
        {
          "output_type": "execute_result",
          "data": {
            "text/html": [
              "<div>\n",
              "<style scoped>\n",
              "    .dataframe tbody tr th:only-of-type {\n",
              "        vertical-align: middle;\n",
              "    }\n",
              "\n",
              "    .dataframe tbody tr th {\n",
              "        vertical-align: top;\n",
              "    }\n",
              "\n",
              "    .dataframe thead th {\n",
              "        text-align: right;\n",
              "    }\n",
              "</style>\n",
              "<table border=\"1\" class=\"dataframe\">\n",
              "  <thead>\n",
              "    <tr style=\"text-align: right;\">\n",
              "      <th></th>\n",
              "      <th>loss</th>\n",
              "      <th>sparse_categorical_accuracy</th>\n",
              "      <th>mean_absolute_error</th>\n",
              "    </tr>\n",
              "  </thead>\n",
              "  <tbody>\n",
              "    <tr>\n",
              "      <th>0</th>\n",
              "      <td>0.557174</td>\n",
              "      <td>0.802300</td>\n",
              "      <td>4.419998</td>\n",
              "    </tr>\n",
              "    <tr>\n",
              "      <th>1</th>\n",
              "      <td>0.369651</td>\n",
              "      <td>0.870133</td>\n",
              "      <td>4.420000</td>\n",
              "    </tr>\n",
              "    <tr>\n",
              "      <th>2</th>\n",
              "      <td>0.335821</td>\n",
              "      <td>0.882083</td>\n",
              "      <td>4.420001</td>\n",
              "    </tr>\n",
              "    <tr>\n",
              "      <th>3</th>\n",
              "      <td>0.314671</td>\n",
              "      <td>0.887167</td>\n",
              "      <td>4.420000</td>\n",
              "    </tr>\n",
              "    <tr>\n",
              "      <th>4</th>\n",
              "      <td>0.301135</td>\n",
              "      <td>0.892267</td>\n",
              "      <td>4.420000</td>\n",
              "    </tr>\n",
              "  </tbody>\n",
              "</table>\n",
              "</div>"
            ],
            "text/plain": [
              "       loss  sparse_categorical_accuracy  mean_absolute_error\n",
              "0  0.557174                     0.802300             4.419998\n",
              "1  0.369651                     0.870133             4.420000\n",
              "2  0.335821                     0.882083             4.420001\n",
              "3  0.314671                     0.887167             4.420000\n",
              "4  0.301135                     0.892267             4.420000"
            ]
          },
          "metadata": {
            "tags": []
          },
          "execution_count": 70
        }
      ]
    },
    {
      "cell_type": "code",
      "metadata": {
        "colab": {
          "base_uri": "https://localhost:8080/",
          "height": 312
        },
        "id": "CxDG7pU8hv0i",
        "outputId": "5947c9e8-f650-442d-c1cd-04a88c3978e6"
      },
      "source": [
        "# plot the loss\n",
        "\n",
        "loss_plot = df.plot(\n",
        "    y=\"loss\", \n",
        "    title = \"loss vs. epochs\",\n",
        "    legend = False\n",
        ")\n",
        "\n",
        "loss_plot.set(\n",
        "    xlabel = \"epochs\",\n",
        "    ylabel = \"loss\"\n",
        ")"
      ],
      "execution_count": 71,
      "outputs": [
        {
          "output_type": "execute_result",
          "data": {
            "text/plain": [
              "[Text(0, 0.5, 'loss'), Text(0.5, 0, 'epochs')]"
            ]
          },
          "metadata": {
            "tags": []
          },
          "execution_count": 71
        },
        {
          "output_type": "display_data",
          "data": {
            "image/png": "[encoded data removed]",
            "text/plain": [
              "<Figure size 432x288 with 1 Axes>"
            ]
          },
          "metadata": {
            "tags": [],
            "needs_background": "light"
          }
        }
      ]
    },
    {
      "cell_type": "code",
      "metadata": {
        "colab": {
          "base_uri": "https://localhost:8080/",
          "height": 282
        },
        "id": "v9AdKnZ5iefS",
        "outputId": "35a8587d-ae6b-4206-c696-87a3fa9211eb"
      },
      "source": [
        "# Choose a random test image\n",
        "\n",
        "random_inx = np.random.choice(test_images.shape[0])\n",
        "\n",
        "test_image = test_images[random_inx]\n",
        "plt.imshow(test_image)\n",
        "plt.show()\n",
        "print(f\"Label: {labels[test_labels[random_inx]]}\")"
      ],
      "execution_count": 72,
      "outputs": [
        {
          "output_type": "display_data",
          "data": {
            "image/png": "[encoded data removed]",
            "text/plain": [
              "<Figure size 432x288 with 1 Axes>"
            ]
          },
          "metadata": {
            "tags": [],
            "needs_background": "light"
          }
        },
        {
          "output_type": "stream",
          "text": [
            "Label: Shirt\n"
          ],
          "name": "stdout"
        }
      ]
    },
    {
      "cell_type": "markdown",
      "metadata": {
        "id": "-NjwOrtcxR5S"
      },
      "source": [
        "## the evaluation and predict methods\n"
      ]
    },
    {
      "cell_type": "code",
      "metadata": {
        "colab": {
          "base_uri": "https://localhost:8080/"
        },
        "id": "ikeEZ68xxX5Z",
        "outputId": "c45fc484-1eeb-4fba-8b41-e3c0e5d653cb"
      },
      "source": [
        "loss, accuracy, mae = model.evaluate(test_images[...,np.newaxis], test_labels, verbose = 2) #[...,np.newaxis]: add dummy channel dimension "
      ],
      "execution_count": 80,
      "outputs": [
        {
          "output_type": "stream",
          "text": [
            "313/313 - 1s - loss: 0.3210 - sparse_categorical_accuracy: 0.8844 - mean_absolute_error: 4.4200\n"
          ],
          "name": "stdout"
        }
      ]
    },
    {
      "cell_type": "code",
      "metadata": {
        "id": "eyFiNwqLxisR"
      },
      "source": [
        "pred = model.predict(train_images[...,np.newaxis])"
      ],
      "execution_count": 77,
      "outputs": []
    },
    {
      "cell_type": "code",
      "metadata": {
        "colab": {
          "base_uri": "https://localhost:8080/"
        },
        "id": "q-xQKoGoyEai",
        "outputId": "ce6b1e15-298b-4219-8165-bb7729bcacd9"
      },
      "source": [
        "pred"
      ],
      "execution_count": 78,
      "outputs": [
        {
          "output_type": "execute_result",
          "data": {
            "text/plain": [
              "array([[2.23723085e-08, 4.11903928e-10, 2.20186109e-08, ...,\n",
              "        6.53175288e-04, 4.92600111e-06, 9.99159575e-01],\n",
              "       [9.99059141e-01, 1.13738416e-07, 7.13804329e-04, ...,\n",
              "        3.04446095e-12, 1.48184355e-07, 2.30618085e-12],\n",
              "       [8.05087388e-01, 1.83736696e-03, 1.51470006e-02, ...,\n",
              "        2.30803635e-04, 1.37597468e-04, 8.99589359e-05],\n",
              "       ...,\n",
              "       [1.65055520e-04, 2.89955869e-06, 4.90738777e-04, ...,\n",
              "        6.47014803e-11, 2.36678900e-07, 3.46632806e-10],\n",
              "       [7.82687962e-01, 1.07335472e-04, 9.33099240e-02, ...,\n",
              "        8.47115371e-06, 4.48801700e-04, 3.83620403e-07],\n",
              "       [6.70253684e-08, 3.39321438e-09, 1.35885432e-06, ...,\n",
              "        6.24104068e-05, 5.25309842e-05, 1.92491598e-07]], dtype=float32)"
            ]
          },
          "metadata": {
            "tags": []
          },
          "execution_count": 78
        }
      ]
    },
    {
      "cell_type": "code",
      "metadata": {
        "id": "QSi8QKHwyWkS"
      },
      "source": [
        "import matplotlib.pyplot as plt\n",
        "import numpy as np\n"
      ],
      "execution_count": 79,
      "outputs": []
    },
    {
      "cell_type": "code",
      "metadata": {
        "colab": {
          "base_uri": "https://localhost:8080/",
          "height": 282
        },
        "id": "FNrb7zG4zYHF",
        "outputId": "6ab355f9-1180-45b7-da0c-18bba1271243"
      },
      "source": [
        "# make prediction from the model\n",
        "\n",
        "# choose a random test image\n",
        "\n",
        "random_inx = np.random.choice(test_images.shape[0])\n",
        "inx = 30\n",
        "\n",
        "test_image = test_images[random_inx]\n",
        "plt.imshow(test_image)\n",
        "plt.show()\n",
        "print(f\"label: {labels[test_labels[random_inx]]}\")"
      ],
      "execution_count": 82,
      "outputs": [
        {
          "output_type": "display_data",
          "data": {
            "image/png": "[encoded data removed]",
            "text/plain": [
              "<Figure size 432x288 with 1 Axes>"
            ]
          },
          "metadata": {
            "tags": [],
            "needs_background": "light"
          }
        },
        {
          "output_type": "stream",
          "text": [
            "label: T-shirt/top\n"
          ],
          "name": "stdout"
        }
      ]
    },
    {
      "cell_type": "code",
      "metadata": {
        "colab": {
          "base_uri": "https://localhost:8080/"
        },
        "id": "9PIhmSaB0blE",
        "outputId": "857bffb0-2882-4586-8f3c-6b0fb071b7db"
      },
      "source": [
        "# get the model prediction \n",
        "\n",
        "prediction = model.predict(test_image[np.newaxis, ..., np.newaxis])\n",
        "print(f\"model prediction: {labels[np.argmax(prediction)]}\")"
      ],
      "execution_count": 87,
      "outputs": [
        {
          "output_type": "stream",
          "text": [
            "model prediction: T-shirt/top\n"
          ],
          "name": "stdout"
        }
      ]
    },
    {
      "cell_type": "code",
      "metadata": {
        "id": "hjJjHMyr0w1I"
      },
      "source": [
        ""
      ],
      "execution_count": null,
      "outputs": []
    }
  ]
}